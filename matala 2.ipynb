{
 "cells": [
  {
   "cell_type": "code",
   "execution_count": 425,
   "metadata": {},
   "outputs": [],
   "source": [
    "import pandas as pd\n",
    "import numpy as np\n",
    "import re\n",
    "import matplotlib.pyplot as plt"
   ]
  },
  {
   "cell_type": "code",
   "execution_count": 426,
   "metadata": {},
   "outputs": [],
   "source": [
    "datafile = \"C:/Users/user1/Downloads/matala2_cosmetics_2019-Nov/matala2_cosmetics_2019-Nov.csv\""
   ]
  },
  {
   "cell_type": "code",
   "execution_count": 427,
   "metadata": {},
   "outputs": [
    {
     "name": "stderr",
     "output_type": "stream",
     "text": [
      "C:\\Users\\user1\\anaconda3\\lib\\site-packages\\IPython\\core\\interactiveshell.py:3071: DtypeWarning: Columns (6) have mixed types.Specify dtype option on import or set low_memory=False.\n",
      "  has_raised = await self.run_ast_nodes(code_ast.body, cell_name,\n"
     ]
    }
   ],
   "source": [
    "df = pdread_csv(datafile)\n",
    "df.shap.e"
   ]
  },
  {
   "cell_type": "markdown",
   "metadata": {},
   "source": [
    "# q1"
   ]
  },
  {
   "cell_type": "code",
   "execution_count": null,
   "metadata": {},
   "outputs": [],
   "source": [
    "df['event_time'] = pd.to_datetime(df['event_time'])\n",
    "df = df.sort_values(['user_session', 'event_time'])\n",
    "df['duration_to_next_event'] = (df.groupby('user_session')['event_time'].diff(-1) * -1).dt.seconds\n",
    "df.loc[df.groupby('user_session')['event_time'].idxmax(), 'duration_to_next_event'] = 0\n",
    "df.head()"
   ]
  },
  {
   "cell_type": "markdown",
   "metadata": {},
   "source": [
    "# q2"
   ]
  },
  {
   "cell_type": "code",
   "execution_count": null,
   "metadata": {},
   "outputs": [],
   "source": [
    "df = df.sort_values(by=['user_id', 'event_time'])\n",
    "df['time_diff'] = df.groupby('user_id')['event_time'].diff().dt.days.apply(lambda x: 1 if x > 5 else 0)\n",
    "df['funnel_number'] = df.groupby('user_id')['time_diff'].cumsum()\n",
    "df['funnel_number'] = df['funnel_number'] +1\n",
    "df.drop('time_diff', axis = 1, inplace = True)\n",
    "df"
   ]
  },
  {
   "cell_type": "markdown",
   "metadata": {},
   "source": [
    "# q3"
   ]
  },
  {
   "cell_type": "code",
   "execution_count": null,
   "metadata": {},
   "outputs": [],
   "source": [
    "df = df.sort_values(['funnel_number', 'user_id'])\n",
    "df['index_in_funnel'] = 1\n",
    "df['index_in_funnel'] = df.groupby(['user_id','funnel_number'] )['index_in_funnel'].cumsum()\n",
    "df['funnel_number'].value_counts()\n",
    "df"
   ]
  },
  {
   "cell_type": "markdown",
   "metadata": {},
   "source": [
    "# q4"
   ]
  },
  {
   "cell_type": "code",
   "execution_count": null,
   "metadata": {},
   "outputs": [],
   "source": [
    "price_pattern = re.compile(r'\\d+\\.\\d+')\n",
    "df['price'] = df['price'].astype(str).apply(lambda x: float(price_pattern.findall(x)[0]) if price_pattern.findall(x) else None)\n",
    "print(df['price'].dtype)\n",
    "df"
   ]
  },
  {
   "cell_type": "markdown",
   "metadata": {},
   "source": [
    "# q5"
   ]
  },
  {
   "cell_type": "code",
   "execution_count": null,
   "metadata": {},
   "outputs": [],
   "source": [
    "type_counts = df['event_type'].value_counts()\n",
    "plt.title('Number of Businesses by Type')\n",
    "plt.xlabel('Type')\n",
    "plt.ylabel('Count')\n",
    "colors = ['red', 'green', 'blue', 'orange']\n",
    "type_counts.plot.bar(color=colors)\n",
    "plt.show()"
   ]
  },
  {
   "cell_type": "markdown",
   "metadata": {},
   "source": [
    "# q6"
   ]
  },
  {
   "cell_type": "code",
   "execution_count": null,
   "metadata": {},
   "outputs": [],
   "source": [
    "session_data = df[['user_id', 'user_session', 'funnel_number', 'index_in_funnel' ]]#.groupby('user_session')\n",
    "session_data"
   ]
  },
  {
   "cell_type": "code",
   "execution_count": null,
   "metadata": {},
   "outputs": [],
   "source": [
    "#df['event_type'] = df[df['event_type'].isin(['view', 'cart', 'purchase'])]\n",
    "data = df.groupby(['user_session', 'event_type']).agg(\n",
    "{\n",
    "    'index_in_funnel' : \"last\",\n",
    "    'product_id': lambda x: list(x),\n",
    "    \n",
    "}).reset_index()\n",
    "\n",
    "\n",
    "pivot = data.pivot_table(index='user_session', columns= 'event_type', values='product_id',aggfunc='first')\n",
    "session_data = pd.merge(session_data, pivot, on='user_session')\n",
    "session_data.rename(columns={'view': 'list_of_viewed', 'cart': 'list_of_added_to_cart ', 'remove_from_cart': 'remove_from_cart'}, inplace=True)\n",
    "session_data['visit_duration'] = df.groupby(['funnel_number', 'user_session'])[[\"duration_to_next_event\"]].transform('sum')\n",
    "session_data['total_event'] = df.groupby('user_session')[['event_type']].transform('count')\n",
    "session_data"
   ]
  },
  {
   "cell_type": "code",
   "execution_count": null,
   "metadata": {},
   "outputs": [],
   "source": []
  }
 ],
 "metadata": {
  "celltoolbar": "Slideshow",
  "kernelspec": {
   "display_name": "Python 3",
   "language": "python",
   "name": "python3"
  },
  "language_info": {
   "codemirror_mode": {
    "name": "ipython",
    "version": 3
   },
   "file_extension": ".py",
   "mimetype": "text/x-python",
   "name": "python",
   "nbconvert_exporter": "python",
   "pygments_lexer": "ipython3",
   "version": "3.8.3"
  }
 },
 "nbformat": 4,
 "nbformat_minor": 4
}
